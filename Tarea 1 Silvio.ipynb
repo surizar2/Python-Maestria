{
 "cells": [
  {
   "attachments": {},
   "cell_type": "markdown",
   "metadata": {},
   "source": [
    "# Tarea 1: Resumen Git"
   ]
  },
  {
   "attachments": {},
   "cell_type": "markdown",
   "metadata": {},
   "source": [
    " **Silvio Urizar**\n",
    "\n",
    "**Carne 23008607**\n",
    "\n",
    "**Curso Python**\n"
   ]
  },
  {
   "attachments": {},
   "cell_type": "markdown",
   "metadata": {},
   "source": [
    "### Introducción\n",
    "\n",
    "En los proyectos cotidianos que requieren pasos para lograr un objetivo. Siempre es muy recomendable el llevar a cabo una bitácora o un historial de cada tarea que se realiza y quién lo hace en el caso de ser un trabajo colaborativo. Esto facilita el control de cómo va avanzando y quién está colaborando. Igualmente, si este proyecto es de procesos modulares, puede revisarse en dónde se cometió un error y centrarse en esa parte sin afectar el resto de tareas que ya se han realizado.\n",
    "\n",
    "En programación y manejo de archivos esto es vital. Ya que llevar un control de versiones permite un flujo de trabajo más eficiente, y se lleva un orden de versiones de tal manera que pueden hacerse correcciones o regresar a versiones anteriores de ser necesario. Incluso es posible ramificar el trabajo para que se pueda trabajar en secciones de los programas o archivos de manera independiente para luego unir todo.\n",
    "\n",
    "Para esto, sirve un **Sistema de control de versiones** o *VCS* por sus siglas en inglés. Mediante este sistema, es posible realizar todo lo anteriormente expuesto de la mejor manera. Facilitando así el monitoreo de versiones, trabajos y ediciones que se hace en un repositorio. El VCS más utilizado para esto es Git. Su versatilidad facilita todo esto. En este resumen, se verá lo básico de Git y sus funciones"
   ]
  },
  {
   "attachments": {},
   "cell_type": "markdown",
   "metadata": {},
   "source": [
    "### ¿Qué es Git?\n",
    "\n",
    "Git es un sistema de gestión de archivos. Su objetivo es llevar registros de versiones y modificaciones realizadas a repositorios. Para esto, utiliza una infertaz en consola en donde el usuario mediante comandos activa sus diversas funcionalidades.\n",
    "\n",
    "Antes de iniciar con it, se debe saber que este no guarda los historiales de versiones de forma lineal. Sino que utiliza un algoritmo especial mediante el cual se puede trabajar una versión en paralelo y generar sub-archivos que son versiones modificables independientes de un nodo común. En las siguientes imágenes se puede observar la diferencia\n",
    "\n",
    "* #### Terminología de Git:\n",
    "  Para hacer más fácil el entender el funcionamiento de Git, este utiliza cierta terminología para descriir carpetas y archivos que están dentro de su entorno.\n",
    "\n",
    "  + Para referirse a una carpeta o folder madre, se utiliza el término **árbol**\n",
    "  + Para referirse a un archivo, se utiliza el término **blob**\n",
    "  + Para referirse a un cambio de estado de un archivo o repositorio, se utiliza el término **commit**\n"
   ]
  }
 ],
 "metadata": {
  "kernelspec": {
   "display_name": "Python 3",
   "language": "python",
   "name": "python3"
  },
  "language_info": {
   "name": "python",
   "version": "3.9.6"
  },
  "orig_nbformat": 4,
  "vscode": {
   "interpreter": {
    "hash": "90f19925b3f3132e9dedb55386e1803a1b59d1289511690ae80ca20e91740384"
   }
  }
 },
 "nbformat": 4,
 "nbformat_minor": 2
}
