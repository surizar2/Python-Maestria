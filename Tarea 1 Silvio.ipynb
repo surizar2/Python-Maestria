{
 "cells": [
  {
   "attachments": {},
   "cell_type": "markdown",
   "metadata": {},
   "source": [
    "# Tarea 1: Resumen Git"
   ]
  },
  {
   "attachments": {},
   "cell_type": "markdown",
   "metadata": {},
   "source": [
    " **Silvio Urizar**\n",
    "\n",
    "**Carne 23008607**\n",
    "\n",
    "**Curso Python**\n"
   ]
  },
  {
   "attachments": {},
   "cell_type": "markdown",
   "metadata": {},
   "source": [
    "### Introducción\n",
    "\n",
    "En los proyectos cotidianos que requieren pasos para lograr un objetivo. Siempre es muy recomendable el llevar a cabo una bitácora o un historial de cada tarea que se realiza y quién lo hace en el caso de ser un trabajo colaborativo. Esto facilita el control de cómo va avanzando y quién está colaborando. Igualmente, si este proyecto es de procesos modulares, puede revisarse en dónde se cometió un error y centrarse en esa parte sin afectar el resto de tareas que ya se han realizado.\n",
    "\n",
    "En programación y manejo de archivos esto es vital. Ya que llevar un control de versiones permite un flujo de trabajo más eficiente, y se lleva un orden de versiones de tal manera que pueden hacerse correcciones o regresar a versiones anteriores de ser necesario. Incluso es posible ramificar el trabajo para que se pueda trabajar en secciones de los programas o archivos de manera independiente para luego unir todo.\n",
    "\n",
    "Para esto, sirve un **Sistema de control de versiones** o *VCS* por sus siglas en inglés. Mediante este sistema, es posible realizar todo lo anteriormente expuesto de la mejor manera. Facilitando así el monitoreo de versiones, trabajos y ediciones que se hace en un repositorio. El VCS más utilizado para esto es Git. Su versatilidad facilita todo esto. En este resumen, se verá lo básico de Git y sus funciones"
   ]
  },
  {
   "attachments": {},
   "cell_type": "markdown",
   "metadata": {},
   "source": [
    "### ¿Qué es Git?\n",
    "\n",
    "Git es un sistema de gestión de archivos. Su objetivo es llevar registros de versiones y modificaciones realizadas a repositorios. Para esto, utiliza una infertaz en consola en donde el usuario mediante comandos activa sus diversas funcionalidades.\n",
    "\n",
    "Antes de iniciar con it, se debe saber que este no guarda los historiales de versiones de forma lineal. Sino que utiliza un algoritmo especial mediante el cual se puede trabajar una versión en paralelo y generar sub-archivos que son versiones modificables independientes de un nodo común. En las siguientes imágenes se puede observar la diferencia\n",
    "\n"
   ]
  },
  {
   "attachments": {},
   "cell_type": "markdown",
   "metadata": {},
   "source": [
    "![Diagrama1](LinealNoLineal.png)"
   ]
  },
  {
   "attachments": {},
   "cell_type": "markdown",
   "metadata": {},
   "source": [
    "En la imagen se puede apreciar cómo en Git pueden ramificarse las versiones de historiales y luego unirse en una nueva instancia. Este es uno de los beneficios que tiene el hecho que Git no utilice una gestión lineal de versiones, y puede ser explotado para trabajar secciones distintas de los archivos en paralelo para luego unir todo en un solo archivo."
   ]
  },
  {
   "attachments": {},
   "cell_type": "markdown",
   "metadata": {},
   "source": [
    "* #### Terminología de Git:\n",
    "  Para hacer más fácil el entender el funcionamiento de Git, este utiliza cierta terminología para descriir carpetas y archivos que están dentro de su entorno.\n",
    "\n",
    "  + Para referirse a una carpeta o folder madre, se utiliza el término **árbol**. Un árbol puede contener más árboles y archivos.\n",
    "  + Para referirse a un archivo, se utiliza el término **blob**. Un blob solo puede contener información.\n",
    "  + Para referirse a un cambio de estado de un archivo o repositorio, se utiliza el término **commit**. Un commit posee información en forma de hash sobre los árboles y blobs que contiene la modificación realizada.\n",
    "\n",
    "  Git genera objetos de blob, árbol o commit para gestionar la información de cambios y gestión de los directorios que se desee. De esta manera, puede accederse al historial, o a commits anteriores para visualizar o incluso acceder y modificar versiones de archivos que se encuentran en commits anteriores.\n"
   ]
  },
  {
   "attachments": {},
   "cell_type": "markdown",
   "metadata": {},
   "source": [
    "### ¿Cómo funciona Git?\n",
    "\n",
    "Luego de instalado Git en la PC a utilizar, es posible acceder a sus funciones a través de la consola. Para comenzar, es necesario inicializar el servicio Git mediante el comando ***git init***. Hecho esto, es posible acceder a todas las funcionalidades del servicio. Es posible agregar árboles o blobs al entorno de git, realizar cambios en los archivos y hacer commits luego de esto. Es posible revisar el log de actividades realizadas, y mucho más. En la siguiente tabla, se exponen algunos comandos básicos que pueden utilizarse."
   ]
  },
  {
   "attachments": {},
   "cell_type": "markdown",
   "metadata": {},
   "source": [
    "|n |comando | descripción|\n",
    "|:-----|:-----|:-----|\n",
    "|1|**git add** + <*nombre*> | Agregar un objeto al motor de git|\n",
    "|2|**git commit -a**| Realizar un commit a todo lo agregado mediante git add|\n",
    "|3|**git log**| Visualizar el log del árbol en cuestión|\n",
    "|4|**git log --all --graph --decorate** |Visualizar el log de git en un formato de tabla|\n",
    "|5|**git cat** + <*hash*>|Verificar la información de un hash relacionado a un commit|\n",
    "|6|**git diff** + <*archivo*>| indica qué ha cambiado de un archivo desde el último commit|\n",
    "|7|**git checkout** + <*hash*>| revisar el estado en el que se encontraba el hash seleccionado|\n"
   ]
  },
  {
   "attachments": {},
   "cell_type": "markdown",
   "metadata": {},
   "source": [
    "### Branching y Merging\n",
    "\n",
    "Una de las funcionalidades clave de git es la de ramificar los commit. Esto permite crear multiples versiones que pueden ser trabajadas en simultáneo. Por ejemplo, si se está implementando una nueva función en un archivo, y un equipo necesita debuggear el mismo archivo, se pueden realizar ramificaciones para que un equipo implemente las mejoras en una versión del archivo mientras que el otro realiza el debuggeo en otra sin que se interrumpan. Más adelante, es posible fusionar ambas ramas haciendo un *merge*.\n",
    "\n",
    "Para crear una rama, debe utlizarse el comando **git branch + <*nombre de la rama*>**. De esta manera, se crea una rama. Luego de esto, es necesario seleccionar seleccionar la rama a trabajar. Esto se realiza con el comando **git checkout + <*nombre de la rama*>**. A partir de este momento, los cambios realizados al repositorio quedará registrado en la rama seleccionada. Es posible cambiar de rama, e incluso volver al commit anterior utilizando el comando checkout.\n",
    "\n",
    "Cuando se desea fusionar ramas, es necesario utilizar el comando **git merge**. Esto unirá las ramas seleccionadas en un solo commit. Es posible que el merge tenga conflictos. Estos deben ser arreglados manualmente por los usuarios.\n"
   ]
  },
  {
   "attachments": {},
   "cell_type": "markdown",
   "metadata": {},
   "source": [
    "### Configuración remotos\n",
    "\n",
    "Las ramificaciones y commits pueden ser realizados por los usuarios que tengan acceso al árbol y los archivos sin importar en qué equipo lo hagan. Para poder habilitar esto, es necesario configurar árboles remotos en git. Estos se enalzan al árbol principal, y el servicio mantiene una conexión entre ambos. Es posible transferir los datos del árbol principal al remoto o viceversa. De esta manera se actualizan toda slas versiones sin importar dónde se encuentren.\n",
    "\n",
    "Para crear un remoto, se utiliza el comando **git remote + <*nombre del remoto*>**. Ya creado, es posible agregarle información mediante el comando **git push**, o puede descargarse de un remoto la información a una PC utlizando **git clone**. También, si se desea actualizar un árbol ya clonado, puede utilizarse el comado **git pull**."
   ]
  },
  {
   "attachments": {},
   "cell_type": "markdown",
   "metadata": {},
   "source": [
    "### Conclusión\n",
    "\n",
    "Git es un servicio que facilita la gestión de archivos y sus versiones. Es muy útil e importante para llevar un buen control de proyectos y archivos. Los beneficios que otorga facilitan la elaboración de trabajos y administración de recursos. Es importante conocerlo y aplicarlo en desarrollo."
   ]
  }
 ],
 "metadata": {
  "kernelspec": {
   "display_name": "Python 3",
   "language": "python",
   "name": "python3"
  },
  "language_info": {
   "codemirror_mode": {
    "name": "ipython",
    "version": 3
   },
   "file_extension": ".py",
   "mimetype": "text/x-python",
   "name": "python",
   "nbconvert_exporter": "python",
   "pygments_lexer": "ipython3",
   "version": "3.9.6"
  },
  "orig_nbformat": 4,
  "vscode": {
   "interpreter": {
    "hash": "90f19925b3f3132e9dedb55386e1803a1b59d1289511690ae80ca20e91740384"
   }
  }
 },
 "nbformat": 4,
 "nbformat_minor": 2
}
